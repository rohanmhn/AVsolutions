{
  "nbformat": 4,
  "nbformat_minor": 0,
  "metadata": {
    "colab": {
      "name": "Assignment1_Pythonbasics_Rohan M.ipynb",
      "provenance": [],
      "collapsed_sections": [],
      "authorship_tag": "ABX9TyPRj3JhtLkPdjw3tvE4peEC",
      "include_colab_link": true
    },
    "kernelspec": {
      "name": "python3",
      "display_name": "Python 3"
    }
  },
  "cells": [
    {
      "cell_type": "markdown",
      "metadata": {
        "id": "view-in-github",
        "colab_type": "text"
      },
      "source": [
        "<a href=\"https://colab.research.google.com/github/rohanmhn/AVsolutions/blob/master/Assignment1_Pythonbasics_Rohan_M.ipynb\" target=\"_parent\"><img src=\"https://colab.research.google.com/assets/colab-badge.svg\" alt=\"Open In Colab\"/></a>"
      ]
    },
    {
      "cell_type": "code",
      "metadata": {
        "id": "Y9BNLTwqL84z",
        "colab_type": "code",
        "colab": {}
      },
      "source": [
        "# Assignment 1: Python basics- Rohan B Mohan MLD 6 - 17th June"
      ],
      "execution_count": null,
      "outputs": []
    },
    {
      "cell_type": "code",
      "metadata": {
        "id": "qB6LJBluMTSN",
        "colab_type": "code",
        "colab": {
          "base_uri": "https://localhost:8080/",
          "height": 54
        },
        "outputId": "4ace5c6d-948b-4ffe-c0ed-51a829835108"
      },
      "source": [
        "### Question 1 Write a program which will find all such numbers which are divisible by 7 but are not a multiple of 5, between 2000 and 3200 (both included). The numbers obtained should be printed\n",
        "# in a comma-separated sequence on a single line.\n",
        "\n",
        "Seven_five=list(range(2000,3201))\n",
        "\n",
        "final= []\n",
        "for i in Seven_five:\n",
        "    if i%7==0 and i%5!=0:\n",
        "        final.append(i)\n",
        "        i+=i\n",
        "    else: \n",
        "        i+=i\n",
        "print(final)\n"
      ],
      "execution_count": null,
      "outputs": [
        {
          "output_type": "stream",
          "text": [
            "[2002, 2009, 2016, 2023, 2037, 2044, 2051, 2058, 2072, 2079, 2086, 2093, 2107, 2114, 2121, 2128, 2142, 2149, 2156, 2163, 2177, 2184, 2191, 2198, 2212, 2219, 2226, 2233, 2247, 2254, 2261, 2268, 2282, 2289, 2296, 2303, 2317, 2324, 2331, 2338, 2352, 2359, 2366, 2373, 2387, 2394, 2401, 2408, 2422, 2429, 2436, 2443, 2457, 2464, 2471, 2478, 2492, 2499, 2506, 2513, 2527, 2534, 2541, 2548, 2562, 2569, 2576, 2583, 2597, 2604, 2611, 2618, 2632, 2639, 2646, 2653, 2667, 2674, 2681, 2688, 2702, 2709, 2716, 2723, 2737, 2744, 2751, 2758, 2772, 2779, 2786, 2793, 2807, 2814, 2821, 2828, 2842, 2849, 2856, 2863, 2877, 2884, 2891, 2898, 2912, 2919, 2926, 2933, 2947, 2954, 2961, 2968, 2982, 2989, 2996, 3003, 3017, 3024, 3031, 3038, 3052, 3059, 3066, 3073, 3087, 3094, 3101, 3108, 3122, 3129, 3136, 3143, 3157, 3164, 3171, 3178, 3192, 3199]\n"
          ],
          "name": "stdout"
        }
      ]
    },
    {
      "cell_type": "code",
      "metadata": {
        "id": "TAl7DJ4uMZaf",
        "colab_type": "code",
        "colab": {
          "base_uri": "https://localhost:8080/",
          "height": 136
        },
        "outputId": "ad63f606-a965-4f70-8b48-3ebdfc82a026"
      },
      "source": [
        "#### Question 2 Write a Python program to accept the user's first and last name and \n",
        "## then getting them printed in the the reverse order with a space between first name and last name.\n",
        "\n",
        "captcha1= input(\"Please Enter your First Name: \")\n",
        "print(\"Your 1st name is {}\".format(captcha1) ) \n",
        "\n",
        "captcha2= input(\"Please Enter your Last Name: \")\n",
        "print(\"Your Surname is {}\".format(captcha2) ) \n",
        "\n",
        "print(\"Your full name is \" + captcha1 +\" \" + captcha2)\n",
        "\n",
        "Full_name=list(captcha1+\" \"+captcha2)\n",
        "print(Full_name)\n",
        "Full_name[::-1]\n"
      ],
      "execution_count": null,
      "outputs": [
        {
          "output_type": "stream",
          "text": [
            "Please Enter your First Name: Rohan\n",
            "Your 1st name is Rohan\n",
            "Please Enter your Last Name: Mohan\n",
            "Your Surname is Mohan\n",
            "Your full name is Rohan Mohan\n",
            "['R', 'o', 'h', 'a', 'n', ' ', 'M', 'o', 'h', 'a', 'n']\n"
          ],
          "name": "stdout"
        },
        {
          "output_type": "execute_result",
          "data": {
            "text/plain": [
              "['n', 'a', 'h', 'o', 'M', ' ', 'n', 'a', 'h', 'o', 'R']"
            ]
          },
          "metadata": {
            "tags": []
          },
          "execution_count": 10
        }
      ]
    },
    {
      "cell_type": "markdown",
      "metadata": {
        "id": "lf3vjtAkO7yR",
        "colab_type": "text"
      },
      "source": [
        ""
      ]
    },
    {
      "cell_type": "code",
      "metadata": {
        "id": "4rVOX0pJMbFB",
        "colab_type": "code",
        "colab": {
          "base_uri": "https://localhost:8080/",
          "height": 34
        },
        "outputId": "25d80346-5df3-476b-9f07-0ac64d9d9df4"
      },
      "source": [
        "  ### Question 3 Write a Python program to find the volume of a sphere with diameter 12 cm. Formula: V=4/3 * π * r **3\n",
        "diameter=12\n",
        "pi_val= 22/7\n",
        "radius= diameter/2\n",
        "constant=4/3\n",
        "Volume=constant*pi_val*(radius**3)\n",
        "print(\"Volume of Sphere is {}\".format(Volume))"
      ],
      "execution_count": null,
      "outputs": [
        {
          "output_type": "stream",
          "text": [
            "Volume of Sphere is 905.142857142857\n"
          ],
          "name": "stdout"
        }
      ]
    },
    {
      "cell_type": "code",
      "metadata": {
        "id": "r4lEdfUvMQ9Z",
        "colab_type": "code",
        "colab": {}
      },
      "source": [
        ""
      ],
      "execution_count": null,
      "outputs": []
    },
    {
      "cell_type": "markdown",
      "metadata": {
        "id": "2llkX3joMJpE",
        "colab_type": "text"
      },
      "source": [
        ""
      ]
    }
  ]
}